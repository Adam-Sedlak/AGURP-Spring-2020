{
 "cells": [
  {
   "cell_type": "markdown",
   "metadata": {},
   "source": [
    "# Python Statements"
   ]
  },
  {
   "cell_type": "markdown",
   "metadata": {},
   "source": [
    "This is where coding starts to take off in Python. Last week we looked at how you might go about getting a specific output but offen in coding we want ways to sort and control outcomes. We will look at this using if, elif, else statements, for loops, and while loops."
   ]
  },
  {
   "cell_type": "markdown",
   "metadata": {},
   "source": [
    "# If, Elif, and Else Statements"
   ]
  },
  {
   "cell_type": "markdown",
   "metadata": {},
   "source": [
    "Python makes use of control white space and indented tabs. As of now you can think of indented code as working a bit like parentheses in math to indicate order of operations to help you determine what actions come first and what are nested actions. Lets look at some examples:\n",
    "\n",
    "Perhaps you want a nicer output than say just a boolean. Here we can use a simple if statement to print a string if the given statement is true."
   ]
  },
  {
   "cell_type": "code",
   "execution_count": null,
   "metadata": {},
   "outputs": [],
   "source": [
    "if 4>3:\n",
    "    print(\"Four is greater than three\")"
   ]
  },
  {
   "cell_type": "markdown",
   "metadata": {},
   "source": [
    "This can be used with variable assignment to start runing more complex code. Lets imagine we wanted to make an robot that ran a titration for us (because titrations are time consuming and exausting). Here is a simple example of how you could start using logic and if statements to program your robot."
   ]
  },
  {
   "cell_type": "code",
   "execution_count": null,
   "metadata": {},
   "outputs": [],
   "source": [
    "solution = \"clear\"\n",
    "\n",
    "if solution == \"clear\":\n",
    "    print(\"Add a drop of base to solution\")    "
   ]
  },
  {
   "cell_type": "markdown",
   "metadata": {},
   "source": [
    "Note that if our solution isn't clear we don't have an outcome set up. Lets attach an else statement to fix that:"
   ]
  },
  {
   "cell_type": "code",
   "execution_count": null,
   "metadata": {},
   "outputs": [],
   "source": [
    "solution = \"clear\"\n",
    "\n",
    "# if our solution isn't clear our pH indicator has changed the solution color and we should stop titrating\n",
    "\n",
    "if solution == \"clear\":\n",
    "    print(\"Add a drop of base to solution\")   \n",
    "else:\n",
    "    print(\"Endpoint has been reached!\")"
   ]
  },
  {
   "cell_type": "markdown",
   "metadata": {},
   "source": [
    "Notice how if and else need to be lined up. The indented blocks below them indicate what to do if each statement is true. What if we want to be more specific than just clear and not clear solutions. Well then we can check using an elif statement. Lets say our pH indicator turns pink once endpoint is reached. "
   ]
  },
  {
   "cell_type": "code",
   "execution_count": null,
   "metadata": {},
   "outputs": [],
   "source": [
    "solution = \"clear\"\n",
    "\n",
    "# if our solution isn't clear our pH indicator has changed the solution color and we should stop titrating\n",
    "\n",
    "if solution == \"clear\":\n",
    "    print(\"Add a drop of base to solution\") \n",
    "elif solution == \"pink\":\n",
    "    print(\"Endpoint has been reached!\")\n",
    "else:\n",
    "    print(\"Something is wrong, check for sample contamination. Stop sample run.\")"
   ]
  },
  {
   "cell_type": "markdown",
   "metadata": {},
   "source": [
    "Now our robot can handle a more complex situation by adding an elif and else statements!"
   ]
  },
  {
   "cell_type": "markdown",
   "metadata": {},
   "source": [
    "# For Loops"
   ]
  },
  {
   "cell_type": "markdown",
   "metadata": {},
   "source": [
    "Blocks of code in python are what is known as iterable. For example we can iterate over lists and strings. Iteration allows you to perform an action to every item in an object. Examples of this include:\n",
    "\n",
    "    ~Printing out every letter in a string\n",
    "    ~Adding every number in a list\n",
    "You can think about this as similar to cycling over an object. Lets look at some examples:"
   ]
  },
  {
   "cell_type": "code",
   "execution_count": null,
   "metadata": {},
   "outputs": [],
   "source": [
    "list1 = [1,2,3,4,5]\n",
    "\n",
    "for number in list1:\n",
    "    print(number)\n",
    "    \n",
    "# The choice of the word number is totally arbitrary in this example. Any other word would work equally well.\n",
    "#I like using trying to describe what's in my list as it makes logic flow easier to follow."
   ]
  },
  {
   "cell_type": "markdown",
   "metadata": {},
   "source": [
    "For loops don't have to be specific even to the items in them. For example:"
   ]
  },
  {
   "cell_type": "code",
   "execution_count": null,
   "metadata": {},
   "outputs": [],
   "source": [
    "list1 = [1,2,3,4,5]\n",
    "\n",
    "for _ in list1:\n",
    "    print(\"this is another list element\")"
   ]
  },
  {
   "cell_type": "markdown",
   "metadata": {},
   "source": [
    "You can use for loops with if statements to control/isolate data better too!"
   ]
  },
  {
   "cell_type": "code",
   "execution_count": null,
   "metadata": {},
   "outputs": [],
   "source": [
    "list1 = [1,2,3,4,5]\n",
    "\n",
    "for number in list1:\n",
    "    if number == list1[0]:\n",
    "        print(str(number)+\" is the first element in the list\")\n",
    "    elif number ==list1[-1]:\n",
    "        print(str(number)+ \" is the last element in the list\")\n",
    "    else:\n",
    "        print(str(number)+\" is another list element\")"
   ]
  },
  {
   "cell_type": "markdown",
   "metadata": {},
   "source": [
    "You can also use for loops isolate and or store data. For example:"
   ]
  },
  {
   "cell_type": "code",
   "execution_count": null,
   "metadata": {},
   "outputs": [],
   "source": [
    "list2 = [20,4,79,55,17,32,99]\n",
    "list_sum = 0\n",
    "\n",
    "for x in list2:\n",
    "    list_sum = list_sum + x\n",
    "\n",
    "print(list_sum)"
   ]
  },
  {
   "cell_type": "markdown",
   "metadata": {},
   "source": [
    "You can also store numbers to a list using the append command."
   ]
  },
  {
   "cell_type": "code",
   "execution_count": null,
   "metadata": {},
   "outputs": [],
   "source": [
    "large_numlist = []\n",
    "\n",
    "for num in list2:\n",
    "    if num >= 50:\n",
    "        large_numlist.append(num)\n",
    "\n",
    "print(large_numlist)"
   ]
  },
  {
   "cell_type": "markdown",
   "metadata": {},
   "source": [
    "A quick note on tuple unpacking with for loops! Tuples are like lists however they can't be changed. For example:"
   ]
  },
  {
   "cell_type": "code",
   "execution_count": null,
   "metadata": {},
   "outputs": [],
   "source": [
    "my_tuple = (\"x\",\"y\",\"z\")\n",
    "my_list = [\"x\",\"y\",\"z\"]"
   ]
  },
  {
   "cell_type": "code",
   "execution_count": null,
   "metadata": {},
   "outputs": [],
   "source": [
    "my_list[2] = 3"
   ]
  },
  {
   "cell_type": "markdown",
   "metadata": {},
   "source": [
    "A common data structure that built in python functions use tuples nested in lists. This for example might represent x and y values in a data plot. Using a for loop we can unpack just the x values or just the y values."
   ]
  },
  {
   "cell_type": "code",
   "execution_count": null,
   "metadata": {},
   "outputs": [],
   "source": [
    "plot_xys = [(1,5),(2,4),(3,6),(4,10),(5,7)]\n",
    "\n",
    "for tup in plot_xys:\n",
    "    print(tup)"
   ]
  },
  {
   "cell_type": "markdown",
   "metadata": {},
   "source": [
    "Lets say you just wanted x's! Python supports special tuple unpacking."
   ]
  },
  {
   "cell_type": "code",
   "execution_count": null,
   "metadata": {},
   "outputs": [],
   "source": [
    "for (x,y) in plot_xys:\n",
    "    print(y)"
   ]
  },
  {
   "cell_type": "markdown",
   "metadata": {},
   "source": [
    "# While loops"
   ]
  },
  {
   "cell_type": "markdown",
   "metadata": {},
   "source": [
    "While loops run a line of code as long as a condition is met. We won't use them too much but they are good to know about. Here's some examples:"
   ]
  },
  {
   "cell_type": "code",
   "execution_count": null,
   "metadata": {},
   "outputs": [],
   "source": [
    "x=0\n",
    "\n",
    "while x < 10:\n",
    "    x = x+1\n",
    "    print(x)\n",
    "else: \n",
    "    print(\"x>10\")"
   ]
  },
  {
   "cell_type": "markdown",
   "metadata": {},
   "source": [
    "Here I have built out code for our titration robot more to add volume and perform tasks automatically. This is just an example but it does show how while loops can be used. Typically they are used in dynamic systems that recieve data feed back that needs to be processed. Sadly we won't do much of that this semester. "
   ]
  },
  {
   "cell_type": "code",
   "execution_count": null,
   "metadata": {},
   "outputs": [],
   "source": [
    "solution = \"clear\"\n",
    "\n",
    "pH = 3\n",
    "volume_added = 0\n",
    "# if our solution isn't clear our pH indicator has changed the solution color and we should stop titrating\n",
    "on = True\n",
    "\n",
    "while on:\n",
    "    if solution == \"clear\":\n",
    "        print(\"1mL was added to solution\")\n",
    "        pH = pH +.5\n",
    "        volume_added = volume_added + 1\n",
    "        if pH > 7:\n",
    "            solution = \"pink\"\n",
    "            on = False\n",
    "            print(\"\\nEnd point reached. Final solution color is \" + solution)\n",
    "            print(str(volume_added)+\"mL was added\")\n",
    "    elif solution == \"pink\":\n",
    "        on = False\n",
    "        print(\"Endpoint has been reached before titration!\")\n",
    "    else:\n",
    "        on = False\n",
    "        print(\"Something is wrong, check for sample contamination. Stop sample run.\")"
   ]
  },
  {
   "cell_type": "markdown",
   "metadata": {},
   "source": [
    "# Intro to Functions"
   ]
  },
  {
   "cell_type": "markdown",
   "metadata": {},
   "source": [
    "Python can allow us to custom build functions. I'll go over a bit of functions today but hopefully more next week."
   ]
  },
  {
   "cell_type": "code",
   "execution_count": null,
   "metadata": {},
   "outputs": [],
   "source": [
    "def print_name(name):\n",
    "    '''\n",
    "    Prints out given name in a friedly fasion! \n",
    "\n",
    "    Input: n = your name (as a string)\n",
    "    Output \"Hello my name is ____!\"\n",
    "\n",
    "    '''\n",
    "    print(\"Hello my name is \" + name.capitalize() + \"!\")"
   ]
  },
  {
   "cell_type": "code",
   "execution_count": null,
   "metadata": {},
   "outputs": [],
   "source": [
    "print_name(\"adam\")"
   ]
  }
 ],
 "metadata": {
  "kernelspec": {
   "display_name": "Python 3",
   "language": "python",
   "name": "python3"
  },
  "language_info": {
   "codemirror_mode": {
    "name": "ipython",
    "version": 3
   },
   "file_extension": ".py",
   "mimetype": "text/x-python",
   "name": "python",
   "nbconvert_exporter": "python",
   "pygments_lexer": "ipython3",
   "version": "3.7.4"
  }
 },
 "nbformat": 4,
 "nbformat_minor": 2
}
