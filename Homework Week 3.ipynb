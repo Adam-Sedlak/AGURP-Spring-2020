{
 "cells": [
  {
   "cell_type": "code",
   "execution_count": null,
   "metadata": {},
   "outputs": [],
   "source": [
    "#Write a function for Beers Law\n",
    "def beers_law(b,A):\n",
    "    '''\n",
    "    Returns concentration of a sample given the path length and absorbance. A = ƐbC\n",
    "    \n",
    "    Input: path length (b), absorbance (A)\n",
    "    Output: concentration (C)\n",
    "    \n",
    "    '''\n",
    "    Ɛ = 23.44"
   ]
  },
  {
   "cell_type": "code",
   "execution_count": null,
   "metadata": {},
   "outputs": [],
   "source": [
    "#Add all the prime numbers between 0 and 50\n",
    "\n",
    "#Creates a list of numbers from 1-50\n",
    "nums_1_50 = list(range(1,51))\n",
    "\n",
    "#You can use the % to help you solve this question. \n",
    "#% is the mod of a number (it retruns the remainder from division). \n",
    "#When % of a number is zero it is divisible by that number\n",
    "# 4 % 2 = 0, 5 % 2 = 1, 6 % 2 = 0.... "
   ]
  },
  {
   "cell_type": "code",
   "execution_count": null,
   "metadata": {},
   "outputs": [],
   "source": [
    "#Write a function that check if a number is prime\n",
    "\n",
    "def prime(number):\n",
    "    '''\n",
    "    Returns a statment about whether the input number is prime\n",
    "    \n",
    "    Input: number 1-100\n",
    "    Output: string or boolean\n",
    "    \n",
    "    '''"
   ]
  },
  {
   "cell_type": "code",
   "execution_count": null,
   "metadata": {},
   "outputs": [],
   "source": [
    "#Revese this string\n",
    "string = \"A man, a plan, a canal: Panama\""
   ]
  },
  {
   "cell_type": "code",
   "execution_count": null,
   "metadata": {},
   "outputs": [],
   "source": [
    "#Generate the first 20 terms of the fibonacci sequence (not by hand)."
   ]
  }
 ],
 "metadata": {
  "kernelspec": {
   "display_name": "Python 3",
   "language": "python",
   "name": "python3"
  },
  "language_info": {
   "codemirror_mode": {
    "name": "ipython",
    "version": 3
   },
   "file_extension": ".py",
   "mimetype": "text/x-python",
   "name": "python",
   "nbconvert_exporter": "python",
   "pygments_lexer": "ipython3",
   "version": "3.7.4"
  }
 },
 "nbformat": 4,
 "nbformat_minor": 2
}
