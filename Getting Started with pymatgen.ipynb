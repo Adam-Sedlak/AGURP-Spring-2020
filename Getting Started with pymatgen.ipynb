{
 "cells": [
  {
   "cell_type": "code",
   "execution_count": 4,
   "metadata": {},
   "outputs": [],
   "source": [
    "import pymatgen as pmg\n",
    "api_key= \"c33RigWA2JSvUJddhzD\"\n",
    "mpr = pmg.MPRester(\"c33RigWA2JSvUJddhzD\")"
   ]
  },
  {
   "cell_type": "code",
   "execution_count": 28,
   "metadata": {},
   "outputs": [
    {
     "name": "stdout",
     "output_type": "stream",
     "text": [
      "{'energy': -36.89110618, 'energy_per_atom': -9.222776545, 'volume': 41.13742744042275, 'nsites': 4, 'composition_unit_cell': {'C': 4.0}, 'formula_pretty': 'C', 'is_hubbard': False, 'hubbards': {}, 'elements': ['C'], 'nelements': 1, 'spacegroup': {'source': 'spglib', 'symbol': 'P6_3/mmc', 'number': 194, 'point_group': '6/mmm', 'crystal_system': 'hexagonal', 'hall': '-P 6c 2c'}, 'band_gap': 1.7042999999999995, 'density': 1.9392788989162946, 'oxide_type': None, 'full_formula': 'C4', 'material_id': 'mp-48'}\n"
     ]
    }
   ],
   "source": [
    "with mpr as m:\n",
    "    a=m.get_task_data(\"mp-554278\")\n",
    "print(a[0])"
   ]
  },
  {
   "cell_type": "code",
   "execution_count": 27,
   "metadata": {},
   "outputs": [
    {
     "name": "stdout",
     "output_type": "stream",
     "text": [
      "energy\n",
      "energy_per_atom\n",
      "volume\n",
      "nsites\n",
      "composition_unit_cell\n",
      "formula_pretty\n",
      "is_hubbard\n",
      "hubbards\n",
      "elements\n",
      "nelements\n",
      "spacegroup\n",
      "band_gap\n",
      "density\n",
      "oxide_type\n",
      "full_formula\n",
      "material_id\n"
     ]
    }
   ],
   "source": [
    "with mpr as m:\n",
    "    a=m.get_task_data(\"mp-48\")\n",
    "#print(a[0])\n",
    "for x in a[0]:\n",
    "    print(x)"
   ]
  },
  {
   "cell_type": "code",
   "execution_count": 50,
   "metadata": {},
   "outputs": [
    {
     "data": {
      "text/plain": [
       "56"
      ]
     },
     "execution_count": 50,
     "metadata": {},
     "output_type": "execute_result"
    }
   ],
   "source": [
    "data = mpr.query(criteria={\"elements\": [\"C\"]}, \n",
    "                 properties=[\"density\"])\n",
    "len(data)\n"
   ]
  },
  {
   "cell_type": "code",
   "execution_count": 53,
   "metadata": {},
   "outputs": [
    {
     "name": "stdout",
     "output_type": "stream",
     "text": [
      "[1.368864130817869, 3.4948420872514205, 1.8843702363097774, 1.675488903736263, 1.2743713871724804, 1.0795451415960515, 0.37811687951360834, 1.7432250770203512, 1.895029428092068, 3.5916409856905602, 1.9392788989162946, 3.488247284194158, 2.333812869645216, 1.783633443248033, 0.5855846373847075, 3.4958254882092237, 1.7697928997822467, 2.044943668221452, 3.494689823864522, 3.4936772884499776, 1.8843498999481185, 1.855604673065907, 0.7559983434763667, 2.401328073452585, 3.0060950682773746, 1.5167284220428354, 3.5562593458008176, 3.400004268223333, 2.8086293891896608, 2.433684011480548, 1.975241081351725, 1.0147693239528197, 3.347670354669835, 1.7356403154622129, 1.6062091397186566, 1.9810676395632816, 3.489951100980665, 2.0961461756563327, 1.8878851631214837, 2.4124032711397083, 2.7510449304238986, 3.338523027640215, 2.129083789876502, 1.0083807380631247, 2.275260291123283, 2.743280191449268, 1.5931711611154538, 1.868033248497873, 1.645496891723892, 1.5831388688537664, 3.3085301076383264, 1.0309966425023922, 0.8533459591472321, 1.7625784885114733, 3.492430618040904, 1.4192477399020043]\n"
     ]
    }
   ],
   "source": [
    "mp_id =[]\n",
    "for x in range(56):\n",
    "    mp_id.append(list(data[x].values()))\n",
    "mp_id2= []\n",
    "for x in mp_id:\n",
    "    mp_id2.append(x[0])\n",
    "print(mp_id2)"
   ]
  },
  {
   "cell_type": "code",
   "execution_count": null,
   "metadata": {},
   "outputs": [],
   "source": [
    "data = mpr.query(criteria={\"elements\": [\"C\"]}, \n",
    "                 properties=[\"material_id\"])\n",
    "len(data)"
   ]
  },
  {
   "cell_type": "code",
   "execution_count": null,
   "metadata": {},
   "outputs": [],
   "source": []
  }
 ],
 "metadata": {
  "kernelspec": {
   "display_name": "Python 3",
   "language": "python",
   "name": "python3"
  },
  "language_info": {
   "codemirror_mode": {
    "name": "ipython",
    "version": 3
   },
   "file_extension": ".py",
   "mimetype": "text/x-python",
   "name": "python",
   "nbconvert_exporter": "python",
   "pygments_lexer": "ipython3",
   "version": "3.7.4"
  }
 },
 "nbformat": 4,
 "nbformat_minor": 2
}
